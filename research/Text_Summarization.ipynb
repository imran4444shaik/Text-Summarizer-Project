{
 "cells": [
  {
   "cell_type": "code",
   "execution_count": 1,
   "id": "707c065b",
   "metadata": {},
   "outputs": [
    {
     "name": "stdout",
     "output_type": "stream",
     "text": [
      "Tue Jun  3 23:03:09 2025       \n",
      "+-----------------------------------------------------------------------------------------+\n",
      "| NVIDIA-SMI 552.27                 Driver Version: 552.27         CUDA Version: 12.4     |\n",
      "|-----------------------------------------+------------------------+----------------------+\n",
      "| GPU  Name                     TCC/WDDM  | Bus-Id          Disp.A | Volatile Uncorr. ECC |\n",
      "| Fan  Temp   Perf          Pwr:Usage/Cap |           Memory-Usage | GPU-Util  Compute M. |\n",
      "|                                         |                        |               MIG M. |\n",
      "|=========================================+========================+======================|\n",
      "|   0  NVIDIA GeForce RTX 2050      WDDM  |   00000000:01:00.0 Off |                  N/A |\n",
      "| N/A   49C    P0             11W /   55W |       0MiB /   4096MiB |      0%      Default |\n",
      "|                                         |                        |                  N/A |\n",
      "+-----------------------------------------+------------------------+----------------------+\n",
      "                                                                                         \n",
      "+-----------------------------------------------------------------------------------------+\n",
      "| Processes:                                                                              |\n",
      "|  GPU   GI   CI        PID   Type   Process name                              GPU Memory |\n",
      "|        ID   ID                                                               Usage      |\n",
      "|=========================================================================================|\n",
      "|  No running processes found                                                             |\n",
      "+-----------------------------------------------------------------------------------------+\n"
     ]
    }
   ],
   "source": [
    "!nvidia-smi"
   ]
  },
  {
   "cell_type": "code",
   "execution_count": 3,
   "id": "fe4d194a",
   "metadata": {},
   "outputs": [
    {
     "name": "stderr",
     "output_type": "stream",
     "text": [
      "WARNING: You are using pip version 21.2.3; however, version 25.1.1 is available.\n",
      "You should consider upgrading via the 'C:\\MY_NLP_PROJECTS\\Text-Summarizer-Project\\textS\\Scripts\\python.exe -m pip install --upgrade pip' command.\n"
     ]
    }
   ],
   "source": [
    "!pip install transformers[sentencepiece] datasets sacrebleu rouge_score py7zr -q"
   ]
  },
  {
   "cell_type": "code",
   "execution_count": 4,
   "id": "d0c506ab",
   "metadata": {},
   "outputs": [
    {
     "name": "stdout",
     "output_type": "stream",
     "text": [
      "Collecting accelerate\n",
      "  Downloading accelerate-1.7.0-py3-none-any.whl (362 kB)\n",
      "Requirement already satisfied: numpy<3.0.0,>=1.17 in c:\\my_nlp_projects\\text-summarizer-project\\texts\\lib\\site-packages (from accelerate) (2.2.6)\n",
      "Requirement already satisfied: torch>=2.0.0 in c:\\my_nlp_projects\\text-summarizer-project\\texts\\lib\\site-packages (from accelerate) (2.7.0)\n",
      "Requirement already satisfied: safetensors>=0.4.3 in c:\\my_nlp_projects\\text-summarizer-project\\texts\\lib\\site-packages (from accelerate) (0.5.3)\n",
      "Requirement already satisfied: psutil in c:\\my_nlp_projects\\text-summarizer-project\\texts\\lib\\site-packages (from accelerate) (7.0.0)\n",
      "Requirement already satisfied: pyyaml in c:\\my_nlp_projects\\text-summarizer-project\\texts\\lib\\site-packages (from accelerate) (6.0.2)\n",
      "Requirement already satisfied: huggingface-hub>=0.21.0 in c:\\my_nlp_projects\\text-summarizer-project\\texts\\lib\\site-packages (from accelerate) (0.32.3)\n",
      "Requirement already satisfied: packaging>=20.0 in c:\\my_nlp_projects\\text-summarizer-project\\texts\\lib\\site-packages (from accelerate) (25.0)\n",
      "Requirement already satisfied: typing-extensions>=3.7.4.3 in c:\\my_nlp_projects\\text-summarizer-project\\texts\\lib\\site-packages (from huggingface-hub>=0.21.0->accelerate) (4.13.2)\n",
      "Requirement already satisfied: filelock in c:\\my_nlp_projects\\text-summarizer-project\\texts\\lib\\site-packages (from huggingface-hub>=0.21.0->accelerate) (3.18.0)\n",
      "Requirement already satisfied: tqdm>=4.42.1 in c:\\my_nlp_projects\\text-summarizer-project\\texts\\lib\\site-packages (from huggingface-hub>=0.21.0->accelerate) (4.67.1)\n",
      "Requirement already satisfied: fsspec>=2023.5.0 in c:\\my_nlp_projects\\text-summarizer-project\\texts\\lib\\site-packages (from huggingface-hub>=0.21.0->accelerate) (2025.3.0)\n",
      "Requirement already satisfied: requests in c:\\my_nlp_projects\\text-summarizer-project\\texts\\lib\\site-packages (from huggingface-hub>=0.21.0->accelerate) (2.32.3)\n",
      "Requirement already satisfied: networkx in c:\\my_nlp_projects\\text-summarizer-project\\texts\\lib\\site-packages (from torch>=2.0.0->accelerate) (3.4.2)\n",
      "Requirement already satisfied: sympy>=1.13.3 in c:\\my_nlp_projects\\text-summarizer-project\\texts\\lib\\site-packages (from torch>=2.0.0->accelerate) (1.14.0)\n",
      "Requirement already satisfied: jinja2 in c:\\my_nlp_projects\\text-summarizer-project\\texts\\lib\\site-packages (from torch>=2.0.0->accelerate) (3.1.2)\n",
      "Requirement already satisfied: mpmath<1.4,>=1.1.0 in c:\\my_nlp_projects\\text-summarizer-project\\texts\\lib\\site-packages (from sympy>=1.13.3->torch>=2.0.0->accelerate) (1.3.0)\n",
      "Requirement already satisfied: colorama in c:\\my_nlp_projects\\text-summarizer-project\\texts\\lib\\site-packages (from tqdm>=4.42.1->huggingface-hub>=0.21.0->accelerate) (0.4.6)\n",
      "Requirement already satisfied: MarkupSafe>=2.0 in c:\\my_nlp_projects\\text-summarizer-project\\texts\\lib\\site-packages (from jinja2->torch>=2.0.0->accelerate) (3.0.2)\n",
      "Requirement already satisfied: idna<4,>=2.5 in c:\\my_nlp_projects\\text-summarizer-project\\texts\\lib\\site-packages (from requests->huggingface-hub>=0.21.0->accelerate) (3.10)\n",
      "Requirement already satisfied: certifi>=2017.4.17 in c:\\my_nlp_projects\\text-summarizer-project\\texts\\lib\\site-packages (from requests->huggingface-hub>=0.21.0->accelerate) (2025.4.26)\n",
      "Requirement already satisfied: urllib3<3,>=1.21.1 in c:\\my_nlp_projects\\text-summarizer-project\\texts\\lib\\site-packages (from requests->huggingface-hub>=0.21.0->accelerate) (2.4.0)\n",
      "Requirement already satisfied: charset-normalizer<4,>=2 in c:\\my_nlp_projects\\text-summarizer-project\\texts\\lib\\site-packages (from requests->huggingface-hub>=0.21.0->accelerate) (3.4.2)\n",
      "Installing collected packages: accelerate\n",
      "Successfully installed accelerate-1.7.0\n"
     ]
    },
    {
     "name": "stderr",
     "output_type": "stream",
     "text": [
      "WARNING: You are using pip version 21.2.3; however, version 25.1.1 is available.\n",
      "You should consider upgrading via the 'C:\\MY_NLP_PROJECTS\\Text-Summarizer-Project\\textS\\Scripts\\python.exe -m pip install --upgrade pip' command.\n"
     ]
    },
    {
     "name": "stdout",
     "output_type": "stream",
     "text": [
      "Found existing installation: transformers 4.52.4\n",
      "Uninstalling transformers-4.52.4:\n",
      "  Successfully uninstalled transformers-4.52.4\n",
      "Found existing installation: accelerate 1.7.0\n",
      "Uninstalling accelerate-1.7.0:\n",
      "  Successfully uninstalled accelerate-1.7.0\n",
      "Collecting transformers\n",
      "  Using cached transformers-4.52.4-py3-none-any.whl (10.5 MB)\n",
      "Collecting accelerate\n",
      "  Using cached accelerate-1.7.0-py3-none-any.whl (362 kB)\n",
      "Requirement already satisfied: pyyaml>=5.1 in c:\\my_nlp_projects\\text-summarizer-project\\texts\\lib\\site-packages (from transformers) (6.0.2)\n",
      "Requirement already satisfied: numpy>=1.17 in c:\\my_nlp_projects\\text-summarizer-project\\texts\\lib\\site-packages (from transformers) (2.2.6)\n",
      "Requirement already satisfied: regex!=2019.12.17 in c:\\my_nlp_projects\\text-summarizer-project\\texts\\lib\\site-packages (from transformers) (2024.11.6)\n",
      "Requirement already satisfied: tokenizers<0.22,>=0.21 in c:\\my_nlp_projects\\text-summarizer-project\\texts\\lib\\site-packages (from transformers) (0.21.1)\n",
      "Requirement already satisfied: filelock in c:\\my_nlp_projects\\text-summarizer-project\\texts\\lib\\site-packages (from transformers) (3.18.0)\n",
      "Requirement already satisfied: tqdm>=4.27 in c:\\my_nlp_projects\\text-summarizer-project\\texts\\lib\\site-packages (from transformers) (4.67.1)\n",
      "Requirement already satisfied: huggingface-hub<1.0,>=0.30.0 in c:\\my_nlp_projects\\text-summarizer-project\\texts\\lib\\site-packages (from transformers) (0.32.3)\n",
      "Requirement already satisfied: requests in c:\\my_nlp_projects\\text-summarizer-project\\texts\\lib\\site-packages (from transformers) (2.32.3)\n",
      "Requirement already satisfied: safetensors>=0.4.3 in c:\\my_nlp_projects\\text-summarizer-project\\texts\\lib\\site-packages (from transformers) (0.5.3)\n",
      "Requirement already satisfied: packaging>=20.0 in c:\\my_nlp_projects\\text-summarizer-project\\texts\\lib\\site-packages (from transformers) (25.0)\n",
      "Requirement already satisfied: psutil in c:\\my_nlp_projects\\text-summarizer-project\\texts\\lib\\site-packages (from accelerate) (7.0.0)\n",
      "Requirement already satisfied: torch>=2.0.0 in c:\\my_nlp_projects\\text-summarizer-project\\texts\\lib\\site-packages (from accelerate) (2.7.0)\n",
      "Requirement already satisfied: fsspec>=2023.5.0 in c:\\my_nlp_projects\\text-summarizer-project\\texts\\lib\\site-packages (from huggingface-hub<1.0,>=0.30.0->transformers) (2025.3.0)\n",
      "Requirement already satisfied: typing-extensions>=3.7.4.3 in c:\\my_nlp_projects\\text-summarizer-project\\texts\\lib\\site-packages (from huggingface-hub<1.0,>=0.30.0->transformers) (4.13.2)\n",
      "Requirement already satisfied: sympy>=1.13.3 in c:\\my_nlp_projects\\text-summarizer-project\\texts\\lib\\site-packages (from torch>=2.0.0->accelerate) (1.14.0)\n",
      "Requirement already satisfied: jinja2 in c:\\my_nlp_projects\\text-summarizer-project\\texts\\lib\\site-packages (from torch>=2.0.0->accelerate) (3.1.2)\n",
      "Requirement already satisfied: networkx in c:\\my_nlp_projects\\text-summarizer-project\\texts\\lib\\site-packages (from torch>=2.0.0->accelerate) (3.4.2)\n",
      "Requirement already satisfied: mpmath<1.4,>=1.1.0 in c:\\my_nlp_projects\\text-summarizer-project\\texts\\lib\\site-packages (from sympy>=1.13.3->torch>=2.0.0->accelerate) (1.3.0)\n",
      "Requirement already satisfied: colorama in c:\\my_nlp_projects\\text-summarizer-project\\texts\\lib\\site-packages (from tqdm>=4.27->transformers) (0.4.6)\n",
      "Requirement already satisfied: MarkupSafe>=2.0 in c:\\my_nlp_projects\\text-summarizer-project\\texts\\lib\\site-packages (from jinja2->torch>=2.0.0->accelerate) (3.0.2)\n",
      "Requirement already satisfied: charset-normalizer<4,>=2 in c:\\my_nlp_projects\\text-summarizer-project\\texts\\lib\\site-packages (from requests->transformers) (3.4.2)\n",
      "Requirement already satisfied: urllib3<3,>=1.21.1 in c:\\my_nlp_projects\\text-summarizer-project\\texts\\lib\\site-packages (from requests->transformers) (2.4.0)\n",
      "Requirement already satisfied: idna<4,>=2.5 in c:\\my_nlp_projects\\text-summarizer-project\\texts\\lib\\site-packages (from requests->transformers) (3.10)\n",
      "Requirement already satisfied: certifi>=2017.4.17 in c:\\my_nlp_projects\\text-summarizer-project\\texts\\lib\\site-packages (from requests->transformers) (2025.4.26)\n",
      "Installing collected packages: transformers, accelerate\n",
      "Successfully installed accelerate-1.7.0 transformers-4.52.4\n"
     ]
    },
    {
     "name": "stderr",
     "output_type": "stream",
     "text": [
      "WARNING: You are using pip version 21.2.3; however, version 25.1.1 is available.\n",
      "You should consider upgrading via the 'C:\\MY_NLP_PROJECTS\\Text-Summarizer-Project\\textS\\Scripts\\python.exe -m pip install --upgrade pip' command.\n"
     ]
    }
   ],
   "source": [
    "!pip install --upgrade accelerate\n",
    "!pip uninstall -y transformers accelerate\n",
    "!pip install transformers accelerate"
   ]
  },
  {
   "cell_type": "code",
   "execution_count": 6,
   "id": "6aa676db",
   "metadata": {},
   "outputs": [
    {
     "name": "stdout",
     "output_type": "stream",
     "text": [
      "Collecting evaluate\n",
      "  Downloading evaluate-0.4.3-py3-none-any.whl (84 kB)\n",
      "Requirement already satisfied: pandas in c:\\my_nlp_projects\\text-summarizer-project\\texts\\lib\\site-packages (from evaluate) (2.2.3)\n",
      "Requirement already satisfied: packaging in c:\\my_nlp_projects\\text-summarizer-project\\texts\\lib\\site-packages (from evaluate) (25.0)\n",
      "Requirement already satisfied: tqdm>=4.62.1 in c:\\my_nlp_projects\\text-summarizer-project\\texts\\lib\\site-packages (from evaluate) (4.67.1)\n",
      "Requirement already satisfied: xxhash in c:\\my_nlp_projects\\text-summarizer-project\\texts\\lib\\site-packages (from evaluate) (3.5.0)\n",
      "Requirement already satisfied: huggingface-hub>=0.7.0 in c:\\my_nlp_projects\\text-summarizer-project\\texts\\lib\\site-packages (from evaluate) (0.32.3)\n",
      "Requirement already satisfied: datasets>=2.0.0 in c:\\my_nlp_projects\\text-summarizer-project\\texts\\lib\\site-packages (from evaluate) (3.6.0)\n",
      "Requirement already satisfied: requests>=2.19.0 in c:\\my_nlp_projects\\text-summarizer-project\\texts\\lib\\site-packages (from evaluate) (2.32.3)\n",
      "Requirement already satisfied: numpy>=1.17 in c:\\my_nlp_projects\\text-summarizer-project\\texts\\lib\\site-packages (from evaluate) (2.2.6)\n",
      "Requirement already satisfied: fsspec[http]>=2021.05.0 in c:\\my_nlp_projects\\text-summarizer-project\\texts\\lib\\site-packages (from evaluate) (2025.3.0)\n",
      "Requirement already satisfied: multiprocess in c:\\my_nlp_projects\\text-summarizer-project\\texts\\lib\\site-packages (from evaluate) (0.70.16)\n",
      "Requirement already satisfied: dill in c:\\my_nlp_projects\\text-summarizer-project\\texts\\lib\\site-packages (from evaluate) (0.3.8)\n",
      "Requirement already satisfied: filelock in c:\\my_nlp_projects\\text-summarizer-project\\texts\\lib\\site-packages (from datasets>=2.0.0->evaluate) (3.18.0)\n",
      "Requirement already satisfied: pyyaml>=5.1 in c:\\my_nlp_projects\\text-summarizer-project\\texts\\lib\\site-packages (from datasets>=2.0.0->evaluate) (6.0.2)\n",
      "Requirement already satisfied: pyarrow>=15.0.0 in c:\\my_nlp_projects\\text-summarizer-project\\texts\\lib\\site-packages (from datasets>=2.0.0->evaluate) (20.0.0)\n",
      "Requirement already satisfied: aiohttp!=4.0.0a0,!=4.0.0a1 in c:\\my_nlp_projects\\text-summarizer-project\\texts\\lib\\site-packages (from fsspec[http]>=2021.05.0->evaluate) (3.12.6)\n",
      "Requirement already satisfied: attrs>=17.3.0 in c:\\my_nlp_projects\\text-summarizer-project\\texts\\lib\\site-packages (from aiohttp!=4.0.0a0,!=4.0.0a1->fsspec[http]>=2021.05.0->evaluate) (25.3.0)\n",
      "Requirement already satisfied: aiohappyeyeballs>=2.5.0 in c:\\my_nlp_projects\\text-summarizer-project\\texts\\lib\\site-packages (from aiohttp!=4.0.0a0,!=4.0.0a1->fsspec[http]>=2021.05.0->evaluate) (2.6.1)\n",
      "Requirement already satisfied: multidict<7.0,>=4.5 in c:\\my_nlp_projects\\text-summarizer-project\\texts\\lib\\site-packages (from aiohttp!=4.0.0a0,!=4.0.0a1->fsspec[http]>=2021.05.0->evaluate) (6.4.4)\n",
      "Requirement already satisfied: frozenlist>=1.1.1 in c:\\my_nlp_projects\\text-summarizer-project\\texts\\lib\\site-packages (from aiohttp!=4.0.0a0,!=4.0.0a1->fsspec[http]>=2021.05.0->evaluate) (1.6.0)\n",
      "Requirement already satisfied: yarl<2.0,>=1.17.0 in c:\\my_nlp_projects\\text-summarizer-project\\texts\\lib\\site-packages (from aiohttp!=4.0.0a0,!=4.0.0a1->fsspec[http]>=2021.05.0->evaluate) (1.20.0)\n",
      "Requirement already satisfied: async-timeout<6.0,>=4.0 in c:\\my_nlp_projects\\text-summarizer-project\\texts\\lib\\site-packages (from aiohttp!=4.0.0a0,!=4.0.0a1->fsspec[http]>=2021.05.0->evaluate) (5.0.1)\n",
      "Requirement already satisfied: propcache>=0.2.0 in c:\\my_nlp_projects\\text-summarizer-project\\texts\\lib\\site-packages (from aiohttp!=4.0.0a0,!=4.0.0a1->fsspec[http]>=2021.05.0->evaluate) (0.3.1)\n",
      "Requirement already satisfied: aiosignal>=1.1.2 in c:\\my_nlp_projects\\text-summarizer-project\\texts\\lib\\site-packages (from aiohttp!=4.0.0a0,!=4.0.0a1->fsspec[http]>=2021.05.0->evaluate) (1.3.2)\n",
      "Requirement already satisfied: typing-extensions>=3.7.4.3 in c:\\my_nlp_projects\\text-summarizer-project\\texts\\lib\\site-packages (from huggingface-hub>=0.7.0->evaluate) (4.13.2)\n",
      "Requirement already satisfied: charset-normalizer<4,>=2 in c:\\my_nlp_projects\\text-summarizer-project\\texts\\lib\\site-packages (from requests>=2.19.0->evaluate) (3.4.2)\n",
      "Requirement already satisfied: urllib3<3,>=1.21.1 in c:\\my_nlp_projects\\text-summarizer-project\\texts\\lib\\site-packages (from requests>=2.19.0->evaluate) (2.4.0)\n",
      "Requirement already satisfied: certifi>=2017.4.17 in c:\\my_nlp_projects\\text-summarizer-project\\texts\\lib\\site-packages (from requests>=2.19.0->evaluate) (2025.4.26)\n",
      "Requirement already satisfied: idna<4,>=2.5 in c:\\my_nlp_projects\\text-summarizer-project\\texts\\lib\\site-packages (from requests>=2.19.0->evaluate) (3.10)\n",
      "Requirement already satisfied: colorama in c:\\my_nlp_projects\\text-summarizer-project\\texts\\lib\\site-packages (from tqdm>=4.62.1->evaluate) (0.4.6)\n",
      "Requirement already satisfied: python-dateutil>=2.8.2 in c:\\my_nlp_projects\\text-summarizer-project\\texts\\lib\\site-packages (from pandas->evaluate) (2.9.0.post0)\n",
      "Requirement already satisfied: tzdata>=2022.7 in c:\\my_nlp_projects\\text-summarizer-project\\texts\\lib\\site-packages (from pandas->evaluate) (2025.2)\n",
      "Requirement already satisfied: pytz>=2020.1 in c:\\my_nlp_projects\\text-summarizer-project\\texts\\lib\\site-packages (from pandas->evaluate) (2025.2)\n",
      "Requirement already satisfied: six>=1.5 in c:\\my_nlp_projects\\text-summarizer-project\\texts\\lib\\site-packages (from python-dateutil>=2.8.2->pandas->evaluate) (1.17.0)\n",
      "Installing collected packages: evaluate\n",
      "Successfully installed evaluate-0.4.3\n",
      "Note: you may need to restart the kernel to use updated packages.\n"
     ]
    },
    {
     "name": "stderr",
     "output_type": "stream",
     "text": [
      "WARNING: You are using pip version 21.2.3; however, version 25.1.1 is available.\n",
      "You should consider upgrading via the 'c:\\MY_NLP_PROJECTS\\Text-Summarizer-Project\\textS\\Scripts\\python.exe -m pip install --upgrade pip' command.\n"
     ]
    }
   ],
   "source": [
    "pip install evaluate\n"
   ]
  },
  {
   "cell_type": "code",
   "execution_count": 8,
   "id": "a8d12a6d",
   "metadata": {},
   "outputs": [
    {
     "name": "stderr",
     "output_type": "stream",
     "text": [
      "[nltk_data] Downloading package punkt to C:\\Users\\shaik\n",
      "[nltk_data]     imran\\AppData\\Roaming\\nltk_data...\n",
      "[nltk_data]   Package punkt is already up-to-date!\n"
     ]
    },
    {
     "data": {
      "text/plain": [
       "True"
      ]
     },
     "execution_count": 8,
     "metadata": {},
     "output_type": "execute_result"
    }
   ],
   "source": [
    "from transformers import pipeline, set_seed\n",
    "from datasets import load_dataset, load_from_disk\n",
    "import matplotlib.pyplot as plt\n",
    "from datasets import load_dataset\n",
    "import pandas as pd\n",
    "from datasets import load_dataset\n",
    "import evaluate\n",
    "\n",
    "from transformers import AutoModelForSeq2SeqLM, AutoTokenizer\n",
    "\n",
    "import nltk\n",
    "from nltk.tokenize import sent_tokenize\n",
    "\n",
    "from tqdm import tqdm\n",
    "import torch\n",
    "\n",
    "nltk.download(\"punkt\")"
   ]
  },
  {
   "cell_type": "code",
   "execution_count": 9,
   "id": "c05ca37a",
   "metadata": {},
   "outputs": [
    {
     "data": {
      "text/plain": [
       "'cpu'"
      ]
     },
     "execution_count": 9,
     "metadata": {},
     "output_type": "execute_result"
    }
   ],
   "source": [
    "from transformers import AutoModelForSeq2SeqLM, AutoTokenizer\n",
    "\n",
    "device = \"cuda\" if torch.cuda.is_available() else \"cpu\"\n",
    "device"
   ]
  },
  {
   "cell_type": "code",
   "execution_count": 10,
   "id": "c0cc618f",
   "metadata": {},
   "outputs": [
    {
     "name": "stderr",
     "output_type": "stream",
     "text": [
      "c:\\MY_NLP_PROJECTS\\Text-Summarizer-Project\\textS\\lib\\site-packages\\huggingface_hub\\file_download.py:143: UserWarning: `huggingface_hub` cache-system uses symlinks by default to efficiently store duplicated files but your machine does not support them in C:\\Users\\shaik imran\\.cache\\huggingface\\hub\\models--google--pegasus-cnn_dailymail. Caching files will still work but in a degraded version that might require more space on your disk. This warning can be disabled by setting the `HF_HUB_DISABLE_SYMLINKS_WARNING` environment variable. For more details, see https://huggingface.co/docs/huggingface_hub/how-to-cache#limitations.\n",
      "To support symlinks on Windows, you either need to activate Developer Mode or to run Python as an administrator. In order to activate developer mode, see this article: https://docs.microsoft.com/en-us/windows/apps/get-started/enable-your-device-for-development\n",
      "  warnings.warn(message)\n",
      "Some weights of PegasusForConditionalGeneration were not initialized from the model checkpoint at google/pegasus-cnn_dailymail and are newly initialized: ['model.decoder.embed_positions.weight', 'model.encoder.embed_positions.weight']\n",
      "You should probably TRAIN this model on a down-stream task to be able to use it for predictions and inference.\n"
     ]
    }
   ],
   "source": [
    "model_ckpt = \"google/pegasus-cnn_dailymail\"\n",
    "\n",
    "tokenizer = AutoTokenizer.from_pretrained(model_ckpt)\n",
    "\n",
    "model_pegasus = AutoModelForSeq2SeqLM.from_pretrained(model_ckpt).to(device)"
   ]
  },
  {
   "cell_type": "code",
   "execution_count": 11,
   "id": "e27a792a",
   "metadata": {},
   "outputs": [
    {
     "name": "stderr",
     "output_type": "stream",
     "text": [
      "'wget' is not recognized as an internal or external command,\n",
      "operable program or batch file.\n",
      "'unzip' is not recognized as an internal or external command,\n",
      "operable program or batch file.\n"
     ]
    }
   ],
   "source": [
    "#dowload & unzip data\n",
    "\n",
    "!wget https://github.com/imran4444shaik/Data-Sets/raw/refs/heads/main/summarizer-data.zip\n",
    "!unzip summarizer-data.zip"
   ]
  },
  {
   "cell_type": "code",
   "execution_count": null,
   "id": "5eccc0fb",
   "metadata": {},
   "outputs": [],
   "source": [
    "dataset_samsum = load_from_disk('samsum_dataset')\n",
    "dataset_samsum"
   ]
  },
  {
   "cell_type": "code",
   "execution_count": null,
   "id": "6c924585",
   "metadata": {},
   "outputs": [],
   "source": []
  }
 ],
 "metadata": {
  "kernelspec": {
   "display_name": "textS",
   "language": "python",
   "name": "python3"
  },
  "language_info": {
   "codemirror_mode": {
    "name": "ipython",
    "version": 3
   },
   "file_extension": ".py",
   "mimetype": "text/x-python",
   "name": "python",
   "nbconvert_exporter": "python",
   "pygments_lexer": "ipython3",
   "version": "3.10.0"
  }
 },
 "nbformat": 4,
 "nbformat_minor": 5
}
